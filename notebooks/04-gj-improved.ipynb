{
 "cells": [
  {
   "cell_type": "markdown",
   "metadata": {},
   "source": [
    "# Figures"
   ]
  },
  {
   "cell_type": "code",
   "execution_count": 1,
   "metadata": {
    "execution": {
     "iopub.execute_input": "2021-04-01T07:41:25.847066Z",
     "iopub.status.busy": "2021-04-01T07:41:25.846473Z",
     "iopub.status.idle": "2021-04-01T07:41:26.973866Z",
     "shell.execute_reply": "2021-04-01T07:41:26.973009Z",
     "shell.execute_reply.started": "2021-04-01T07:41:25.846916Z"
    },
    "tags": []
   },
   "outputs": [],
   "source": [
    "%load_ext autoreload\n",
    "%autoreload 2\n",
    "\n",
    "import collections\n",
    "import os\n",
    "import pathlib\n",
    "import pickle\n",
    "\n",
    "import joblib\n",
    "import matplotlib\n",
    "import matplotlib.pyplot as plt\n",
    "import networkx as nx\n",
    "import numpy as np\n",
    "import pandas as pd\n",
    "import seaborn as sns\n",
    "from tqdm.auto import tqdm\n",
    "\n",
    "if 'project_dir' not in globals():\n",
    "  project_dir = pathlib.Path.cwd().parent\n",
    "os.chdir(project_dir)\n",
    "\n",
    "import src.network.distance_distribution\n",
    "from src.network.cooccurrence import Cooccurrence\n",
    "import src.network.degree_histogram\n",
    "import src.network.modularity\n",
    "import src.network.giant_component\n",
    "import src.progress_parallel\n",
    "\n",
    "data_file = 'data/3-process/data.pkl'\n",
    "network_file = 'networks/8/graph_attributes.pkl'\n",
    "dutch_network_file = 'networks/8/dutch_graph_attributes.pkl'\n",
    "giant_component_file = 'networks/8/giant_component.pkl'\n",
    "dutch_data_file = 'data/3-process/rdw.pkl'\n",
    "figure_file = 'reports/Fig'\n",
    "distance_distribution_file = 'networks/8/distance_distribution.txt'\n",
    "\n"
   ]
  },
  {
   "cell_type": "markdown",
   "metadata": {},
   "source": [
    "## Figure 5"
   ]
  },
  {
   "cell_type": "code",
   "execution_count": 2,
   "metadata": {
    "execution": {
     "iopub.execute_input": "2021-04-01T07:43:12.417034Z",
     "iopub.status.busy": "2021-04-01T07:43:12.416732Z",
     "iopub.status.idle": "2021-04-01T07:44:10.033490Z",
     "shell.execute_reply": "2021-04-01T07:44:10.032645Z",
     "shell.execute_reply.started": "2021-04-01T07:43:12.417003Z"
    }
   },
   "outputs": [
    {
     "data": {
      "application/vnd.jupyter.widget-view+json": {
       "model_id": "2c0a92fa32724239aa09cee423cf649c",
       "version_major": 2,
       "version_minor": 0
      },
      "text/plain": [
       "  0%|          | 0/9 [00:00<?, ?it/s]"
      ]
     },
     "metadata": {},
     "output_type": "display_data"
    }
   ],
   "source": [
    "from community import best_partition, modularity\n",
    "\n",
    "with open(network_file, 'rb') as file:\n",
    "    g = pickle.load(file)\n",
    "gc = src.network.giant_component.giant_component(g)\n",
    "\n",
    "resolutions = [5e-3, .01, .02, .05, .1, .2, .5, 1, 2]\n",
    "partitions = {\n",
    "    r: best_partition(gc, resolution=r) \n",
    "    for r in tqdm(resolutions)\n",
    "}\n"
   ]
  },
  {
   "cell_type": "markdown",
   "metadata": {},
   "source": [
    "## Figure 5d\n",
    "This score could be improved by using the degree and strength assortativity as well.\n",
    "This was not done in the original paper."
   ]
  },
  {
   "cell_type": "code",
   "execution_count": 6,
   "metadata": {
    "execution": {
     "iopub.execute_input": "2021-04-01T08:09:02.827601Z",
     "iopub.status.busy": "2021-04-01T08:09:02.827321Z",
     "iopub.status.idle": "2021-04-01T08:31:56.531241Z",
     "shell.execute_reply": "2021-04-01T08:31:56.530542Z",
     "shell.execute_reply.started": "2021-04-01T08:09:02.827571Z"
    },
    "tags": []
   },
   "outputs": [
    {
     "data": {
      "application/vnd.jupyter.widget-view+json": {
       "model_id": "ff888b8afcf5468ea9a5e652f0c107b9",
       "version_major": 2,
       "version_minor": 0
      },
      "text/plain": [
       "  0%|          | 0/46020 [00:00<?, ?it/s]"
      ]
     },
     "metadata": {},
     "output_type": "display_data"
    },
    {
     "name": "stderr",
     "output_type": "stream",
     "text": [
      "/local/bruingjde/conda_envs/gj/lib/python3.9/site-packages/networkx/algorithms/assortativity/correlation.py:263: RuntimeWarning: invalid value encountered in double_scalars\n",
      "  r = (t - s) / (1 - s)\n"
     ]
    }
   ],
   "source": [
    "def get_assortativity_per_community(\n",
    "        gc: nx.Graph, nodes: list[str], attribute: str):\n",
    "    if attribute in ['degree', 'strength']:\n",
    "        weight = 'weight' if 'strength' else None\n",
    "        if len(nodes) > 2:\n",
    "            return nx.degree_assortativity_coefficient(\n",
    "                gc, nodes=nodes, weight=weight)\n",
    "    else:\n",
    "        if len(nodes) > 2:\n",
    "            x = nx.attribute_assortativity_coefficient(\n",
    "                gc, attribute, nodes=nodes)\n",
    "            if x is np.nan and attribute == 'country':\n",
    "                    return 1\n",
    "            else:\n",
    "              return x\n",
    "\n",
    "communities_per_resolution = dict()\n",
    "for resolution, partition in partitions.items():\n",
    "    communities = collections.defaultdict(list)\n",
    "    for node, community_id in partition.items():\n",
    "        communities[community_id].append(node)\n",
    "    communities_per_resolution[resolution] = communities\n",
    "    \n",
    "iterable = [\n",
    "    (resolution, community_id, nodes, attribute)\n",
    "    for resolution, communities in communities_per_resolution.items()\n",
    "    for community_id, nodes in communities.items()\n",
    "    for attribute in [\n",
    "        'degree', 'strength', 'country', 'v_median', 'nl', 'l_max']\n",
    "]\n",
    "\n",
    "assortativities_per_community = {\n",
    "  (resolution, community_id, attribute): \n",
    "  get_assortativity_per_community(gc, nodes, attribute) \n",
    "  for resolution, community_id, nodes, attribute in tqdm(iterable)\n",
    "}\n",
    "\n",
    "assortativity_table = (\n",
    "  pd.Series(assortativities_per_community).unstack().fillna(1).abs())\n",
    "\n",
    "average_maximal_community_assortativity = {\n",
    "  resolution: assortativity_table.loc[resolution].max(axis=1).mean() \n",
    "  for resolution in resolutions\n",
    "}     "
   ]
  },
  {
   "cell_type": "code",
   "execution_count": 7,
   "metadata": {
    "execution": {
     "iopub.execute_input": "2021-04-01T08:31:56.532800Z",
     "iopub.status.busy": "2021-04-01T08:31:56.532602Z",
     "iopub.status.idle": "2021-04-01T08:31:56.929749Z",
     "shell.execute_reply": "2021-04-01T08:31:56.929215Z",
     "shell.execute_reply.started": "2021-04-01T08:31:56.532777Z"
    },
    "tags": []
   },
   "outputs": [
    {
     "data": {
      "image/png": "[encoded data removed]",
      "text/plain": [
       "<Figure size 432x288 with 1 Axes>"
      ]
     },
     "metadata": {
      "needs_background": "light"
     },
     "output_type": "display_data"
    }
   ],
   "source": [
    "with matplotlib.rc_context({'xtick.top': True, 'ytick.right': True, }):\n",
    "    pd.Series(average_maximal_community_assortativity).plot(marker='o', ls='', logx=True, xlabel='Resolution', ylabel='R')\n",
    "    plt.xticks([.01, .1, 1], [.01, .1, 1])\n",
    "    plt.savefig(figure_file + '5d.pdf')"
   ]
  },
  {
   "cell_type": "markdown",
   "metadata": {},
   "source": [
    "## Table A1"
   ]
  },
  {
   "cell_type": "code",
   "execution_count": 10,
   "metadata": {
    "execution": {
     "iopub.execute_input": "2021-04-01T08:37:16.473194Z",
     "iopub.status.busy": "2021-04-01T08:37:16.472791Z",
     "iopub.status.idle": "2021-04-01T08:37:16.512273Z",
     "shell.execute_reply": "2021-04-01T08:37:16.511312Z",
     "shell.execute_reply.started": "2021-04-01T08:37:16.473150Z"
    },
    "tags": []
   },
   "outputs": [
    {
     "data": {
      "text/plain": [
       "degree      88\n",
       "strength    88\n",
       "v_median    50\n",
       "l_max       16\n",
       "nl           8\n",
       "country      0\n",
       "dtype: int64"
      ]
     },
     "execution_count": 10,
     "metadata": {},
     "output_type": "execute_result"
    }
   ],
   "source": [
    "assortativity_table.loc[2].idxmax().sort_values(ascending=False)"
   ]
  },
  {
   "cell_type": "code",
   "execution_count": null,
   "metadata": {},
   "outputs": [],
   "source": []
  }
 ],
 "metadata": {
  "kernelspec": {
   "display_name": "Python 3",
   "language": "python",
   "name": "python3"
  },
  "language_info": {
   "codemirror_mode": {
    "name": "ipython",
    "version": 3
   },
   "file_extension": ".py",
   "mimetype": "text/x-python",
   "name": "python",
   "nbconvert_exporter": "python",
   "pygments_lexer": "ipython3",
   "version": "3.9.2"
  }
 },
 "nbformat": 4,
 "nbformat_minor": 4
}
