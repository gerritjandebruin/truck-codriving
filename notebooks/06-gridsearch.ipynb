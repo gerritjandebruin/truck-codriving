{
 "cells": [
  {
   "cell_type": "markdown",
   "metadata": {},
   "source": [
    "# Gridsearch"
   ]
  },
  {
   "cell_type": "markdown",
   "metadata": {},
   "source": [
    "In this notebook we examine the best value for `max_depth` used in the `sklearn.ensemble.RandomForestClassifier`."
   ]
  },
  {
   "cell_type": "code",
   "execution_count": 1,
   "metadata": {
    "execution": {
     "iopub.execute_input": "2021-01-29T05:07:54.384235Z",
     "iopub.status.busy": "2021-01-29T05:07:54.383850Z",
     "iopub.status.idle": "2021-01-29T05:07:56.065205Z",
     "shell.execute_reply": "2021-01-29T05:07:56.064179Z",
     "shell.execute_reply.started": "2021-01-29T05:07:54.384139Z"
    }
   },
   "outputs": [],
   "source": [
    "import datetime, joblib\n",
    "\n",
    "import networkx as nx\n",
    "import matplotlib.pyplot as plt\n",
    "from matplotlib import rcParams\n",
    "import numpy as np\n",
    "import pandas as pd\n",
    "from sklearn.model_selection import GridSearchCV\n",
    "from sklearn.ensemble import RandomForestClassifier\n",
    "from tqdm.auto import tqdm\n",
    "\n",
    "from cooccurringNetwork.cooccurringNetwork import create_graph\n",
    "from linkPrediction.linkPrediction import (\n",
    "  determine_active_nodes, get_index, get_split, get_targets, giant_component, \n",
    "  print_status)\n",
    "# from linkPrediction.linkPrediction import *\n",
    "\n",
    "rcParams['xtick.top'] = True\n",
    "rcParams['ytick.right'] = True"
   ]
  },
  {
   "cell_type": "markdown",
   "metadata": {},
   "source": [
    "## Get the data"
   ]
  },
  {
   "cell_type": "code",
   "execution_count": 2,
   "metadata": {
    "execution": {
     "iopub.execute_input": "2021-01-28T16:37:35.041967Z",
     "iopub.status.busy": "2021-01-28T16:37:35.041826Z",
     "iopub.status.idle": "2021-01-28T16:37:46.026105Z",
     "shell.execute_reply": "2021-01-28T16:37:46.025070Z",
     "shell.execute_reply.started": "2021-01-28T16:37:35.041949Z"
    }
   },
   "outputs": [
    {
     "name": "stdout",
     "output_type": "stream",
     "text": [
      "CPU times: user 9.98 s, sys: 982 ms, total: 11 s\n",
      "Wall time: 11 s\n"
     ]
    }
   ],
   "source": [
    "%%time\n",
    "data        = joblib.load(\"temp/cleaned_data.pkl\")\n",
    "intentional = joblib.load('temp/intentional_cooccurrences.pkl')"
   ]
  },
  {
   "cell_type": "markdown",
   "metadata": {},
   "source": [
    "## Get instances"
   ]
  },
  {
   "cell_type": "markdown",
   "metadata": {},
   "source": [
    "We choose not to use a lifetime and we do select only the GC to reduce class imbalance while still maintaining enough positive instances."
   ]
  },
  {
   "cell_type": "code",
   "execution_count": 3,
   "metadata": {
    "execution": {
     "iopub.execute_input": "2021-01-28T16:37:46.029193Z",
     "iopub.status.busy": "2021-01-28T16:37:46.029076Z",
     "iopub.status.idle": "2021-01-28T16:43:17.411857Z",
     "shell.execute_reply": "2021-01-28T16:43:17.410163Z",
     "shell.execute_reply.started": "2021-01-28T16:37:46.029176Z"
    }
   },
   "outputs": [
    {
     "name": "stdout",
     "output_type": "stream",
     "text": [
      "From the target, 6481 truck pairs will make a link.\n",
      "Class imbalance is equal to 1:38749.\n",
      "CPU times: user 4min 46s, sys: 15.8 s, total: 5min 2s\n",
      "Wall time: 5min 31s\n"
     ]
    }
   ],
   "source": [
    "%%time\n",
    "tau                         = .5\n",
    "depthlimit                  = None\n",
    "lifetime                    = None\n",
    "stopIndex                   = int(len(intentional) * tau)\n",
    "graph_tau                   = create_graph(intentional[:stopIndex])\n",
    "graph_tau.graph['finalDate']= intentional[stopIndex].time\n",
    "graph_tau                   = determine_active_nodes(graph_tau, \n",
    "                                                     lifetime=lifetime)\n",
    "# graph_tau                 = giant_component(graph_tau)\n",
    "graph                       = create_graph(intentional)\n",
    "index                       = get_index(graph=graph_tau, depthlimit=depthlimit)\n",
    "y                           = get_targets(graph=graph, index=index)\n",
    "\n",
    "f, p = np.bincount(y)\n",
    "print(f'From the target, {p} truck pairs will make a link.')\n",
    "print(f'Class imbalance is equal to 1:{round(f/p)}.')"
   ]
  },
  {
   "cell_type": "code",
   "execution_count": 4,
   "metadata": {
    "execution": {
     "iopub.execute_input": "2021-01-28T16:43:17.415334Z",
     "iopub.status.busy": "2021-01-28T16:43:17.414980Z",
     "iopub.status.idle": "2021-01-28T16:48:27.710235Z",
     "shell.execute_reply": "2021-01-28T16:48:27.709542Z",
     "shell.execute_reply.started": "2021-01-28T16:43:17.415292Z"
    }
   },
   "outputs": [
    {
     "name": "stdout",
     "output_type": "stream",
     "text": [
      "From the target, 4517 truck pairs will make a link.\n",
      "Class imbalance is equal to 1:18704.\n",
      "CPU times: user 4min 52s, sys: 17.2 s, total: 5min 9s\n",
      "Wall time: 5min 10s\n"
     ]
    }
   ],
   "source": [
    "%%time\n",
    "tau                         = .5\n",
    "depthlimit                  = None\n",
    "lifetime                    = None\n",
    "stopIndex                   = int(len(intentional) * tau)\n",
    "graph_tau                   = create_graph(intentional[:stopIndex])\n",
    "graph_tau.graph['finalDate']= intentional[stopIndex].time\n",
    "graph_tau                   = determine_active_nodes(graph_tau, \n",
    "                                                     lifetime=lifetime)\n",
    "graph_tau                   = giant_component(graph_tau)\n",
    "graph                       = create_graph(intentional)\n",
    "index                       = get_index(graph=graph_tau, depthlimit=depthlimit)\n",
    "y                           = get_targets(graph=graph, index=index)\n",
    "\n",
    "f, p = np.bincount(y)\n",
    "print(f'From the target, {p} truck pairs will make a link.')\n",
    "print(f'Class imbalance is equal to 1:{round(f/p)}.')"
   ]
  },
  {
   "cell_type": "markdown",
   "metadata": {},
   "source": [
    "## Get features"
   ]
  },
  {
   "cell_type": "code",
   "execution_count": 10,
   "metadata": {
    "execution": {
     "iopub.execute_input": "2021-01-28T17:29:23.271116Z",
     "iopub.status.busy": "2021-01-28T17:29:23.270763Z",
     "iopub.status.idle": "2021-01-28T18:51:09.494188Z",
     "shell.execute_reply": "2021-01-28T18:51:09.492920Z",
     "shell.execute_reply.started": "2021-01-28T17:29:23.271084Z"
    }
   },
   "outputs": [
    {
     "name": "stdout",
     "output_type": "stream",
     "text": [
      "18:29:23 Start feature construction.\n"
     ]
    },
    {
     "data": {
      "application/vnd.jupyter.widget-view+json": {
       "model_id": "f73c9cd408d84b7ca472e5928db672d1",
       "version_major": 2,
       "version_minor": 0
      },
      "text/plain": [
       "shortest_path per node:   0%|          | 0/13001 [00:00<?, ?it/s]"
      ]
     },
     "metadata": {},
     "output_type": "display_data"
    },
    {
     "name": "stdout",
     "output_type": "stream",
     "text": [
      "18:46:20 Create pd.DataFrame with index.\n"
     ]
    },
    {
     "data": {
      "application/vnd.jupyter.widget-view+json": {
       "model_id": "7d8cd7e018874ecd97e938c0e1c19576",
       "version_major": 2,
       "version_minor": 0
      },
      "text/plain": [
       "truck_ax_sum:   0%|          | 0/84488577 [00:00<?, ?it/s]"
      ]
     },
     "metadata": {},
     "output_type": "display_data"
    },
    {
     "data": {
      "application/vnd.jupyter.widget-view+json": {
       "model_id": "c113853457444d7896f0c688b64a08b2",
       "version_major": 2,
       "version_minor": 0
      },
      "text/plain": [
       "truck_ax_diff:   0%|          | 0/84488577 [00:00<?, ?it/s]"
      ]
     },
     "metadata": {},
     "output_type": "display_data"
    },
    {
     "data": {
      "application/vnd.jupyter.widget-view+json": {
       "model_id": "e70220e5d4de40fdabe7d1d5ab738d03",
       "version_major": 2,
       "version_minor": 0
      },
      "text/plain": [
       "truck_len_sum:   0%|          | 0/84488577 [00:00<?, ?it/s]"
      ]
     },
     "metadata": {},
     "output_type": "display_data"
    },
    {
     "data": {
      "application/vnd.jupyter.widget-view+json": {
       "model_id": "6e83db9406b14013b531ee74f0ab8a94",
       "version_major": 2,
       "version_minor": 0
      },
      "text/plain": [
       "truck_len_diff:   0%|          | 0/84488577 [00:00<?, ?it/s]"
      ]
     },
     "metadata": {},
     "output_type": "display_data"
    },
    {
     "data": {
      "application/vnd.jupyter.widget-view+json": {
       "model_id": "d829003dc1614b108e1499f1df569165",
       "version_major": 2,
       "version_minor": 0
      },
      "text/plain": [
       "truck_mass_sum:   0%|          | 0/84488577 [00:00<?, ?it/s]"
      ]
     },
     "metadata": {},
     "output_type": "display_data"
    },
    {
     "data": {
      "application/vnd.jupyter.widget-view+json": {
       "model_id": "e8f5b2f3d76249249fa616f1653c1150",
       "version_major": 2,
       "version_minor": 0
      },
      "text/plain": [
       "truck_mass_diff:   0%|          | 0/84488577 [00:00<?, ?it/s]"
      ]
     },
     "metadata": {},
     "output_type": "display_data"
    },
    {
     "data": {
      "application/vnd.jupyter.widget-view+json": {
       "model_id": "9e3884d719a345f3a5b6a6f26b643942",
       "version_major": 2,
       "version_minor": 0
      },
      "text/plain": [
       "night_sum:   0%|          | 0/84488577 [00:00<?, ?it/s]"
      ]
     },
     "metadata": {},
     "output_type": "display_data"
    },
    {
     "data": {
      "application/vnd.jupyter.widget-view+json": {
       "model_id": "9c86db3add1749f4a2e4cb88947855ea",
       "version_major": 2,
       "version_minor": 0
      },
      "text/plain": [
       "night_diff:   0%|          | 0/84488577 [00:00<?, ?it/s]"
      ]
     },
     "metadata": {},
     "output_type": "display_data"
    },
    {
     "data": {
      "application/vnd.jupyter.widget-view+json": {
       "model_id": "8fb1b4daf52d4a99bd72b5c097dfaa1b",
       "version_major": 2,
       "version_minor": 0
      },
      "text/plain": [
       "weekend_sum:   0%|          | 0/84488577 [00:00<?, ?it/s]"
      ]
     },
     "metadata": {},
     "output_type": "display_data"
    },
    {
     "data": {
      "application/vnd.jupyter.widget-view+json": {
       "model_id": "037296101f934815b4fdcb984b14515e",
       "version_major": 2,
       "version_minor": 0
      },
      "text/plain": [
       "weekend_diff:   0%|          | 0/84488577 [00:00<?, ?it/s]"
      ]
     },
     "metadata": {},
     "output_type": "display_data"
    },
    {
     "data": {
      "application/vnd.jupyter.widget-view+json": {
       "model_id": "94285c2bf5c3426ea2b8b8596ba8af5c",
       "version_major": 2,
       "version_minor": 0
      },
      "text/plain": [
       "degree_sum:   0%|          | 0/84488577 [00:00<?, ?it/s]"
      ]
     },
     "metadata": {},
     "output_type": "display_data"
    },
    {
     "data": {
      "application/vnd.jupyter.widget-view+json": {
       "model_id": "810ed801be394f27a260d8241ce6df21",
       "version_major": 2,
       "version_minor": 0
      },
      "text/plain": [
       "degree_diff:   0%|          | 0/84488577 [00:00<?, ?it/s]"
      ]
     },
     "metadata": {},
     "output_type": "display_data"
    },
    {
     "data": {
      "application/vnd.jupyter.widget-view+json": {
       "model_id": "c7bacc298d8d4fb6a4220f49e00f2132",
       "version_major": 2,
       "version_minor": 0
      },
      "text/plain": [
       "volume_sum:   0%|          | 0/84488577 [00:00<?, ?it/s]"
      ]
     },
     "metadata": {},
     "output_type": "display_data"
    },
    {
     "data": {
      "application/vnd.jupyter.widget-view+json": {
       "model_id": "3a57909954484f86afd9c8968c7659b6",
       "version_major": 2,
       "version_minor": 0
      },
      "text/plain": [
       "volume_diff:   0%|          | 0/84488577 [00:00<?, ?it/s]"
      ]
     },
     "metadata": {},
     "output_type": "display_data"
    },
    {
     "data": {
      "application/vnd.jupyter.widget-view+json": {
       "model_id": "c2bdf40e14484992aa906b2f894a7385",
       "version_major": 2,
       "version_minor": 0
      },
      "text/plain": [
       "country_same:   0%|          | 0/84488577 [00:00<?, ?it/s]"
      ]
     },
     "metadata": {},
     "output_type": "display_data"
    },
    {
     "data": {
      "application/vnd.jupyter.widget-view+json": {
       "model_id": "17b4aa7d409447828ef1b635e760048b",
       "version_major": 2,
       "version_minor": 0
      },
      "text/plain": [
       "nb_total:   0%|          | 0/84488577 [00:00<?, ?it/s]"
      ]
     },
     "metadata": {},
     "output_type": "display_data"
    },
    {
     "data": {
      "application/vnd.jupyter.widget-view+json": {
       "model_id": "5294ecdfde444cae94b7c66a2ef63552",
       "version_major": 2,
       "version_minor": 0
      },
      "text/plain": [
       "nb_common:   0%|          | 0/84488577 [00:00<?, ?it/s]"
      ]
     },
     "metadata": {},
     "output_type": "display_data"
    },
    {
     "data": {
      "application/vnd.jupyter.widget-view+json": {
       "model_id": "7d92f6b0b7744a8db8cedb2478a79d14",
       "version_major": 2,
       "version_minor": 0
      },
      "text/plain": [
       "shortest_path:   0%|          | 0/84488577 [00:00<?, ?it/s]"
      ]
     },
     "metadata": {},
     "output_type": "display_data"
    },
    {
     "data": {
      "application/vnd.jupyter.widget-view+json": {
       "model_id": "4d4532ceeccd485f84440631deaae7aa",
       "version_major": 2,
       "version_minor": 0
      },
      "text/plain": [
       "spatiotemporal features:   0%|          | 0/6 [00:00<?, ?it/s]"
      ]
     },
     "metadata": {},
     "output_type": "display_data"
    },
    {
     "name": "stdout",
     "output_type": "stream",
     "text": [
      "CPU times: user 1h 16min 12s, sys: 5min 32s, total: 1h 21min 44s\n",
      "Wall time: 1h 21min 46s\n"
     ]
    }
   ],
   "source": [
    "%%time\n",
    "def get_node_features(\n",
    "  *, graph: nx.Graph, data: pd.DataFrame, verbose: bool = False \n",
    "  ) -> dict:\n",
    "  \"\"\"Get the node features for the link prediction problem.\n",
    "\n",
    "  Arguments:\n",
    "  - graph: graph used to create features\n",
    "  - data:  pd.DataFrame containing the columns `location`, `datetime`, \n",
    "           `entityId`.\n",
    "\n",
    "  Returns:\n",
    "  - dict of dict: First key is node feature and second key is license plate. \n",
    "  \"\"\"\n",
    "  if verbose: print_status(\"Started node feature construction.\")\n",
    "  final_date = max([attr['time'] for n, attr in graph.nodes(data=True)])\n",
    "  trucks = [node for node in graph]\n",
    "  d = data[(data['datetime'] <= final_date) & data['entity'].isin(trucks)\n",
    "          ].copy()\n",
    "  # d_7 and d_30 are used for the spatiotemporal features\n",
    "  d_7  = d[d['datetime'] >= final_date-pd.Timedelta(7, 'D')].copy()\n",
    "  d_30 = d[d['datetime'] >= final_date-pd.Timedelta(30, 'D')].copy()\n",
    "\n",
    "  def get_driving_hours(x): return (x.dt.hour - 12).abs().mean()\n",
    "  def get_weekend(x): return (x.dt.weekday >= 5).mean()\n",
    "  # See paper for definitions of these node features.\n",
    "  node_features = {\n",
    "    \"country\": {node: node.split('-')[1] for node in graph},\n",
    "    \"ax\": d.groupby(\"entity\")[\"axes\"].median().fillna(0).to_dict(),\n",
    "    \"length\": d.groupby(\"entity\")[\"length\"].median().fillna(0).to_dict(),\n",
    "    \"m\": d.groupby(\"entity\")[\"mass\"].median().fillna(0).to_dict(),\n",
    "    \"night\": d.groupby(\"entity\")[\"datetime\"].agg(get_driving_hours).to_dict(),\n",
    "    \"weekend\": d.groupby(\"entity\")[\"datetime\"].agg(get_weekend).to_dict(),\n",
    "    \"nb\": {n: set(graph[n]) for n in graph},\n",
    "    \"vol\": {n: sum([w for _, _, w in graph.edges(nbunch=n, data=\"weight\")])\n",
    "            for n in graph},\n",
    "    \"shortest_path\": {n: dict(nx.single_source_shortest_path_length(graph, n)) \n",
    "                     for n in tqdm(graph, \"shortest_path per node\")},\n",
    "    # Contains for every location the nuber of registrations in last\n",
    "    # x days.\n",
    "    \"f_7\":  d_7.groupby( [\"entity\", \"location\"]).size().to_dict(),\n",
    "    \"f_30\": d_30.groupby([\"entity\", \"location\"]).size().to_dict(),\n",
    "    # 365 equals all measurements.\n",
    "    \"f_365\": d.groupby(  [\"entity\", \"location\"]).size().to_dict() \n",
    "  }\n",
    "\n",
    "  if verbose: print_status(\"Ended node feature construction.\")\n",
    "  return node_features\n",
    "\n",
    "def get_features(\n",
    "  *, graph: nx.Graph, data: pd.DataFrame, index: list[int, int], \n",
    "  verbose: bool = True\n",
    "  ) -> pd.DataFrame:\n",
    "  \"\"\"Returns the features for the link prediction problem.\n",
    "\n",
    "  Args:\n",
    "  - graph: Used to determine the features from.\n",
    "  - data: Used to construct the features from.\n",
    "  - index: List of pairs of nodes for which the features are constructed.\n",
    "  \"\"\"\n",
    "  disable = dict(disable=not verbose)\n",
    "  if verbose: print_status(\"Start feature construction.\")\n",
    "\n",
    "  node_features = get_node_features(graph=graph, data=data)\n",
    "\n",
    "  if verbose: print_status(\"Create pd.DataFrame with index.\")\n",
    "  x = pd.DataFrame(index=index)\n",
    "\n",
    "  x[\"truck_ax_sum\"] = [\n",
    "    node_features[\"ax\"][u] + node_features[\"ax\"][v] \n",
    "    for u, v in tqdm(index, desc=\"truck_ax_sum\", disable=not verbose)]\n",
    "  x[\"truck_ax_diff\"] = [\n",
    "    abs(node_features[\"ax\"][u] - node_features[\"ax\"][v]) \n",
    "    for u, v in tqdm(index, desc=\"truck_ax_diff\", disable=not verbose)]          \n",
    "  x[\"truck_len_sum\"] = [\n",
    "    node_features[\"length\"][u] + node_features[\"length\"][v] \n",
    "    for u, v in tqdm(index, desc=\"truck_len_sum\", disable=not verbose)]\n",
    "  x[\"truck_len_diff\"] = [\n",
    "    abs(node_features[\"length\"][u] - node_features[\"length\"][v]) \n",
    "    for u, v in tqdm(index, desc=\"truck_len_diff\", disable=not verbose)]\n",
    "  x[\"truck_mass_sum\"] = [\n",
    "    node_features[\"m\"][u] + node_features[\"m\"][v] \n",
    "    for u, v in tqdm(index, desc=\"truck_mass_sum\", disable=not verbose)]\n",
    "  x[\"truck_mass_diff\"] = [\n",
    "    abs(node_features[\"m\"][u] - node_features[\"m\"][v]) \n",
    "    for u, v in tqdm(index, desc=\"truck_mass_diff\", disable=not verbose)]\n",
    "  x[\"night_sum\"] = [\n",
    "    node_features[\"night\"][u] + node_features[\"night\"][v] \n",
    "    for u, v in tqdm(index, desc=\"night_sum\", disable=not verbose)]\n",
    "  x[\"night_diff\"] = [\n",
    "    abs(node_features[\"night\"][u] - node_features[\"night\"][v]) \n",
    "    for u, v in tqdm(index, desc=\"night_diff\", disable=not verbose)]\n",
    "  x[\"weekend_sum\"] = [\n",
    "    node_features[\"weekend\"][u] + node_features[\"weekend\"][v]\n",
    "    for u, v in tqdm(index, desc=\"weekend_sum\", disable=not verbose)]\n",
    "  x[\"weekend_diff\"] = [\n",
    "    abs(node_features[\"weekend\"][u] - node_features[\"weekend\"][v]) \n",
    "    for u, v in tqdm(index, desc=\"weekend_diff\", disable=not verbose)]\n",
    "  x[\"degree_sum\"] = [\n",
    "    len(node_features[\"nb\"][u]) + len(node_features[\"nb\"][v]) \n",
    "    for u, v in tqdm(index, desc=\"degree_sum\", disable=not verbose)]\n",
    "  x[\"degree_diff\"] = [\n",
    "    abs(len(node_features[\"nb\"][u]) - len(node_features[\"nb\"][v]))\n",
    "    for u, v in tqdm(index, desc=\"degree_diff\", disable=not verbose)]\n",
    "  x[\"volume_sum\"] = [\n",
    "    node_features[\"vol\"][u] + node_features[\"vol\"][v] \n",
    "    for u, v in tqdm(index, desc=\"volume_sum\", disable=not verbose)]\n",
    "  x[\"volume_diff\"] = [\n",
    "    abs(node_features[\"vol\"][u] - node_features[\"vol\"][v])\n",
    "    for u, v in tqdm(index, desc=\"volume_diff\", disable=not verbose)]       \n",
    "  x[\"country_same\"] = [\n",
    "    node_features[\"country\"][u] == node_features[\"country\"][v]\n",
    "    for u, v in tqdm(index, desc=\"country_same\", disable=not verbose)]\n",
    "  x[\"nb_total\"] = [\n",
    "    len(node_features[\"nb\"][u] | node_features[\"nb\"][v])\n",
    "    for u, v in tqdm(index, desc=\"nb_total\", disable=not verbose)]\n",
    "  x[\"nb_common\"] = [\n",
    "    len(node_features[\"nb\"][u] & node_features[\"nb\"][v])\n",
    "    for u, v in tqdm(index, desc=\"nb_common\", disable=not verbose)]\n",
    "  x[\"shortest_path\"] = [\n",
    "    node_features[\"shortest_path\"][u].get(v, 100)\n",
    "    for u, v in tqdm(index, desc=\"shortest_path\", disable=not verbose)]\n",
    "\n",
    "  locations = {loc for _, loc in node_features[\"f_365\"].keys()}\n",
    "  for location in tqdm(locations, desc=\"spatiotemporal features\", \n",
    "                       disable=not verbose):\n",
    "    x[f'f_7_{location}'] = [node_features[\"f_7\"].get((u, location), 0) + \n",
    "                            node_features[\"f_7\"].get((v, location), 0)\n",
    "                            for u, v in index]\n",
    "    x[f'f_30_{location}'] = [node_features[\"f_30\"].get((u, location), 0) + \n",
    "                             node_features[\"f_30\"].get((v, location), 0)\n",
    "                             for u, v in index]\n",
    "    x[f'f_365_{location}'] = [node_features[\"f_365\"].get((u, location), 0) + \n",
    "                              node_features[\"f_365\"].get((v, location), 0)\n",
    "                              for u, v in index]\n",
    "\n",
    "  return x.loc[:, x.any()] # Remove columns with only zeros.\n",
    "\n",
    "x = get_features(graph=graph_tau, data=data, index=index)"
   ]
  },
  {
   "cell_type": "markdown",
   "metadata": {},
   "source": [
    "## Split in train and test\n",
    "Create a train and test split. The Split object contains attributes `xtrain`, `xtest`, `ytrain` and `ytest`."
   ]
  },
  {
   "cell_type": "code",
   "execution_count": null,
   "metadata": {},
   "outputs": [],
   "source": [
    "%%time\n",
    "split = get_split(x, y)\n",
    "joblib.dump(split, \"temp/split.pkl\")"
   ]
  },
  {
   "cell_type": "markdown",
   "metadata": {},
   "source": [
    "## Perform gridsearch"
   ]
  },
  {
   "cell_type": "code",
   "execution_count": null,
   "metadata": {
    "execution": {
     "iopub.execute_input": "2021-01-29T05:08:17.826688Z",
     "iopub.status.busy": "2021-01-29T05:08:17.826532Z"
    }
   },
   "outputs": [],
   "source": [
    "split = joblib.load('temp/split.pkl')"
   ]
  },
  {
   "cell_type": "code",
   "execution_count": 4,
   "metadata": {
    "execution": {
     "iopub.execute_input": "2021-01-28T22:05:10.667096Z",
     "iopub.status.busy": "2021-01-28T22:05:10.666952Z",
     "iopub.status.idle": "2021-01-28T22:10:05.819459Z",
     "shell.execute_reply": "2021-01-28T22:10:05.818636Z",
     "shell.execute_reply.started": "2021-01-28T22:05:10.667079Z"
    }
   },
   "outputs": [
    {
     "name": "stdout",
     "output_type": "stream",
     "text": [
      "Fitting 5 folds for each of 9 candidates, totalling 45 fits\n"
     ]
    },
    {
     "name": "stderr",
     "output_type": "stream",
     "text": [
      "exception calling callback for <Future at 0x7f6b14334760 state=finished raised TerminatedWorkerError>\n",
      "Traceback (most recent call last):\n",
      "  File \"/home/bruingjde/.conda/envs/truckCodriving/lib/python3.9/site-packages/joblib/externals/loky/_base.py\", line 625, in _invoke_callbacks\n",
      "    callback(self)\n",
      "  File \"/home/bruingjde/.conda/envs/truckCodriving/lib/python3.9/site-packages/joblib/parallel.py\", line 359, in __call__\n",
      "    self.parallel.dispatch_next()\n",
      "  File \"/home/bruingjde/.conda/envs/truckCodriving/lib/python3.9/site-packages/joblib/parallel.py\", line 792, in dispatch_next\n",
      "    if not self.dispatch_one_batch(self._original_iterator):\n",
      "  File \"/home/bruingjde/.conda/envs/truckCodriving/lib/python3.9/site-packages/joblib/parallel.py\", line 859, in dispatch_one_batch\n",
      "    self._dispatch(tasks)\n",
      "  File \"/home/bruingjde/.conda/envs/truckCodriving/lib/python3.9/site-packages/joblib/parallel.py\", line 777, in _dispatch\n",
      "    job = self._backend.apply_async(batch, callback=cb)\n",
      "  File \"/home/bruingjde/.conda/envs/truckCodriving/lib/python3.9/site-packages/joblib/_parallel_backends.py\", line 531, in apply_async\n",
      "    future = self._workers.submit(SafeFunction(func))\n",
      "  File \"/home/bruingjde/.conda/envs/truckCodriving/lib/python3.9/site-packages/joblib/externals/loky/reusable_executor.py\", line 177, in submit\n",
      "    return super(_ReusablePoolExecutor, self).submit(\n",
      "  File \"/home/bruingjde/.conda/envs/truckCodriving/lib/python3.9/site-packages/joblib/externals/loky/process_executor.py\", line 1102, in submit\n",
      "    raise self._flags.broken\n",
      "joblib.externals.loky.process_executor.TerminatedWorkerError: A worker process managed by the executor was unexpectedly terminated. This could be caused by a segmentation fault while calling the function or by an excessive memory usage causing the Operating System to kill the worker.\n",
      "\n",
      "The exit codes of the workers are {SIGKILL(-9)}\n"
     ]
    },
    {
     "ename": "TerminatedWorkerError",
     "evalue": "A worker process managed by the executor was unexpectedly terminated. This could be caused by a segmentation fault while calling the function or by an excessive memory usage causing the Operating System to kill the worker.\n\nThe exit codes of the workers are {SIGKILL(-9)}",
     "output_type": "error",
     "traceback": [
      "\u001b[0;31m---------------------------------------------------------------------------\u001b[0m",
      "\u001b[0;31mTerminatedWorkerError\u001b[0m                     Traceback (most recent call last)",
      "\u001b[0;32m<timed exec>\u001b[0m in \u001b[0;36m<module>\u001b[0;34m\u001b[0m\n",
      "\u001b[0;32m~/.conda/envs/truckCodriving/lib/python3.9/site-packages/sklearn/utils/validation.py\u001b[0m in \u001b[0;36minner_f\u001b[0;34m(*args, **kwargs)\u001b[0m\n\u001b[1;32m     61\u001b[0m             \u001b[0mextra_args\u001b[0m \u001b[0;34m=\u001b[0m \u001b[0mlen\u001b[0m\u001b[0;34m(\u001b[0m\u001b[0margs\u001b[0m\u001b[0;34m)\u001b[0m \u001b[0;34m-\u001b[0m \u001b[0mlen\u001b[0m\u001b[0;34m(\u001b[0m\u001b[0mall_args\u001b[0m\u001b[0;34m)\u001b[0m\u001b[0;34m\u001b[0m\u001b[0;34m\u001b[0m\u001b[0m\n\u001b[1;32m     62\u001b[0m             \u001b[0;32mif\u001b[0m \u001b[0mextra_args\u001b[0m \u001b[0;34m<=\u001b[0m \u001b[0;36m0\u001b[0m\u001b[0;34m:\u001b[0m\u001b[0;34m\u001b[0m\u001b[0;34m\u001b[0m\u001b[0m\n\u001b[0;32m---> 63\u001b[0;31m                 \u001b[0;32mreturn\u001b[0m \u001b[0mf\u001b[0m\u001b[0;34m(\u001b[0m\u001b[0;34m*\u001b[0m\u001b[0margs\u001b[0m\u001b[0;34m,\u001b[0m \u001b[0;34m**\u001b[0m\u001b[0mkwargs\u001b[0m\u001b[0;34m)\u001b[0m\u001b[0;34m\u001b[0m\u001b[0;34m\u001b[0m\u001b[0m\n\u001b[0m\u001b[1;32m     64\u001b[0m \u001b[0;34m\u001b[0m\u001b[0m\n\u001b[1;32m     65\u001b[0m             \u001b[0;31m# extra_args > 0\u001b[0m\u001b[0;34m\u001b[0m\u001b[0;34m\u001b[0m\u001b[0;34m\u001b[0m\u001b[0m\n",
      "\u001b[0;32m~/.conda/envs/truckCodriving/lib/python3.9/site-packages/sklearn/model_selection/_search.py\u001b[0m in \u001b[0;36mfit\u001b[0;34m(self, X, y, groups, **fit_params)\u001b[0m\n\u001b[1;32m    839\u001b[0m                 \u001b[0;32mreturn\u001b[0m \u001b[0mresults\u001b[0m\u001b[0;34m\u001b[0m\u001b[0;34m\u001b[0m\u001b[0m\n\u001b[1;32m    840\u001b[0m \u001b[0;34m\u001b[0m\u001b[0m\n\u001b[0;32m--> 841\u001b[0;31m             \u001b[0mself\u001b[0m\u001b[0;34m.\u001b[0m\u001b[0m_run_search\u001b[0m\u001b[0;34m(\u001b[0m\u001b[0mevaluate_candidates\u001b[0m\u001b[0;34m)\u001b[0m\u001b[0;34m\u001b[0m\u001b[0;34m\u001b[0m\u001b[0m\n\u001b[0m\u001b[1;32m    842\u001b[0m \u001b[0;34m\u001b[0m\u001b[0m\n\u001b[1;32m    843\u001b[0m             \u001b[0;31m# multimetric is determined here because in the case of a callable\u001b[0m\u001b[0;34m\u001b[0m\u001b[0;34m\u001b[0m\u001b[0;34m\u001b[0m\u001b[0m\n",
      "\u001b[0;32m~/.conda/envs/truckCodriving/lib/python3.9/site-packages/sklearn/model_selection/_search.py\u001b[0m in \u001b[0;36m_run_search\u001b[0;34m(self, evaluate_candidates)\u001b[0m\n\u001b[1;32m   1286\u001b[0m     \u001b[0;32mdef\u001b[0m \u001b[0m_run_search\u001b[0m\u001b[0;34m(\u001b[0m\u001b[0mself\u001b[0m\u001b[0;34m,\u001b[0m \u001b[0mevaluate_candidates\u001b[0m\u001b[0;34m)\u001b[0m\u001b[0;34m:\u001b[0m\u001b[0;34m\u001b[0m\u001b[0;34m\u001b[0m\u001b[0m\n\u001b[1;32m   1287\u001b[0m         \u001b[0;34m\"\"\"Search all candidates in param_grid\"\"\"\u001b[0m\u001b[0;34m\u001b[0m\u001b[0;34m\u001b[0m\u001b[0m\n\u001b[0;32m-> 1288\u001b[0;31m         \u001b[0mevaluate_candidates\u001b[0m\u001b[0;34m(\u001b[0m\u001b[0mParameterGrid\u001b[0m\u001b[0;34m(\u001b[0m\u001b[0mself\u001b[0m\u001b[0;34m.\u001b[0m\u001b[0mparam_grid\u001b[0m\u001b[0;34m)\u001b[0m\u001b[0;34m)\u001b[0m\u001b[0;34m\u001b[0m\u001b[0;34m\u001b[0m\u001b[0m\n\u001b[0m\u001b[1;32m   1289\u001b[0m \u001b[0;34m\u001b[0m\u001b[0m\n\u001b[1;32m   1290\u001b[0m \u001b[0;34m\u001b[0m\u001b[0m\n",
      "\u001b[0;32m~/.conda/envs/truckCodriving/lib/python3.9/site-packages/sklearn/model_selection/_search.py\u001b[0m in \u001b[0;36mevaluate_candidates\u001b[0;34m(candidate_params, cv, more_results)\u001b[0m\n\u001b[1;32m    793\u001b[0m                               n_splits, n_candidates, n_candidates * n_splits))\n\u001b[1;32m    794\u001b[0m \u001b[0;34m\u001b[0m\u001b[0m\n\u001b[0;32m--> 795\u001b[0;31m                 out = parallel(delayed(_fit_and_score)(clone(base_estimator),\n\u001b[0m\u001b[1;32m    796\u001b[0m                                                        \u001b[0mX\u001b[0m\u001b[0;34m,\u001b[0m \u001b[0my\u001b[0m\u001b[0;34m,\u001b[0m\u001b[0;34m\u001b[0m\u001b[0;34m\u001b[0m\u001b[0m\n\u001b[1;32m    797\u001b[0m                                                        \u001b[0mtrain\u001b[0m\u001b[0;34m=\u001b[0m\u001b[0mtrain\u001b[0m\u001b[0;34m,\u001b[0m \u001b[0mtest\u001b[0m\u001b[0;34m=\u001b[0m\u001b[0mtest\u001b[0m\u001b[0;34m,\u001b[0m\u001b[0;34m\u001b[0m\u001b[0;34m\u001b[0m\u001b[0m\n",
      "\u001b[0;32m~/.conda/envs/truckCodriving/lib/python3.9/site-packages/joblib/parallel.py\u001b[0m in \u001b[0;36m__call__\u001b[0;34m(self, iterable)\u001b[0m\n\u001b[1;32m   1052\u001b[0m \u001b[0;34m\u001b[0m\u001b[0m\n\u001b[1;32m   1053\u001b[0m             \u001b[0;32mwith\u001b[0m \u001b[0mself\u001b[0m\u001b[0;34m.\u001b[0m\u001b[0m_backend\u001b[0m\u001b[0;34m.\u001b[0m\u001b[0mretrieval_context\u001b[0m\u001b[0;34m(\u001b[0m\u001b[0;34m)\u001b[0m\u001b[0;34m:\u001b[0m\u001b[0;34m\u001b[0m\u001b[0;34m\u001b[0m\u001b[0m\n\u001b[0;32m-> 1054\u001b[0;31m                 \u001b[0mself\u001b[0m\u001b[0;34m.\u001b[0m\u001b[0mretrieve\u001b[0m\u001b[0;34m(\u001b[0m\u001b[0;34m)\u001b[0m\u001b[0;34m\u001b[0m\u001b[0;34m\u001b[0m\u001b[0m\n\u001b[0m\u001b[1;32m   1055\u001b[0m             \u001b[0;31m# Make sure that we get a last message telling us we are done\u001b[0m\u001b[0;34m\u001b[0m\u001b[0;34m\u001b[0m\u001b[0;34m\u001b[0m\u001b[0m\n\u001b[1;32m   1056\u001b[0m             \u001b[0melapsed_time\u001b[0m \u001b[0;34m=\u001b[0m \u001b[0mtime\u001b[0m\u001b[0;34m.\u001b[0m\u001b[0mtime\u001b[0m\u001b[0;34m(\u001b[0m\u001b[0;34m)\u001b[0m \u001b[0;34m-\u001b[0m \u001b[0mself\u001b[0m\u001b[0;34m.\u001b[0m\u001b[0m_start_time\u001b[0m\u001b[0;34m\u001b[0m\u001b[0;34m\u001b[0m\u001b[0m\n",
      "\u001b[0;32m~/.conda/envs/truckCodriving/lib/python3.9/site-packages/joblib/parallel.py\u001b[0m in \u001b[0;36mretrieve\u001b[0;34m(self)\u001b[0m\n\u001b[1;32m    931\u001b[0m             \u001b[0;32mtry\u001b[0m\u001b[0;34m:\u001b[0m\u001b[0;34m\u001b[0m\u001b[0;34m\u001b[0m\u001b[0m\n\u001b[1;32m    932\u001b[0m                 \u001b[0;32mif\u001b[0m \u001b[0mgetattr\u001b[0m\u001b[0;34m(\u001b[0m\u001b[0mself\u001b[0m\u001b[0;34m.\u001b[0m\u001b[0m_backend\u001b[0m\u001b[0;34m,\u001b[0m \u001b[0;34m'supports_timeout'\u001b[0m\u001b[0;34m,\u001b[0m \u001b[0;32mFalse\u001b[0m\u001b[0;34m)\u001b[0m\u001b[0;34m:\u001b[0m\u001b[0;34m\u001b[0m\u001b[0;34m\u001b[0m\u001b[0m\n\u001b[0;32m--> 933\u001b[0;31m                     \u001b[0mself\u001b[0m\u001b[0;34m.\u001b[0m\u001b[0m_output\u001b[0m\u001b[0;34m.\u001b[0m\u001b[0mextend\u001b[0m\u001b[0;34m(\u001b[0m\u001b[0mjob\u001b[0m\u001b[0;34m.\u001b[0m\u001b[0mget\u001b[0m\u001b[0;34m(\u001b[0m\u001b[0mtimeout\u001b[0m\u001b[0;34m=\u001b[0m\u001b[0mself\u001b[0m\u001b[0;34m.\u001b[0m\u001b[0mtimeout\u001b[0m\u001b[0;34m)\u001b[0m\u001b[0;34m)\u001b[0m\u001b[0;34m\u001b[0m\u001b[0;34m\u001b[0m\u001b[0m\n\u001b[0m\u001b[1;32m    934\u001b[0m                 \u001b[0;32melse\u001b[0m\u001b[0;34m:\u001b[0m\u001b[0;34m\u001b[0m\u001b[0;34m\u001b[0m\u001b[0m\n\u001b[1;32m    935\u001b[0m                     \u001b[0mself\u001b[0m\u001b[0;34m.\u001b[0m\u001b[0m_output\u001b[0m\u001b[0;34m.\u001b[0m\u001b[0mextend\u001b[0m\u001b[0;34m(\u001b[0m\u001b[0mjob\u001b[0m\u001b[0;34m.\u001b[0m\u001b[0mget\u001b[0m\u001b[0;34m(\u001b[0m\u001b[0;34m)\u001b[0m\u001b[0;34m)\u001b[0m\u001b[0;34m\u001b[0m\u001b[0;34m\u001b[0m\u001b[0m\n",
      "\u001b[0;32m~/.conda/envs/truckCodriving/lib/python3.9/site-packages/joblib/_parallel_backends.py\u001b[0m in \u001b[0;36mwrap_future_result\u001b[0;34m(future, timeout)\u001b[0m\n\u001b[1;32m    540\u001b[0m         AsyncResults.get from multiprocessing.\"\"\"\n\u001b[1;32m    541\u001b[0m         \u001b[0;32mtry\u001b[0m\u001b[0;34m:\u001b[0m\u001b[0;34m\u001b[0m\u001b[0;34m\u001b[0m\u001b[0m\n\u001b[0;32m--> 542\u001b[0;31m             \u001b[0;32mreturn\u001b[0m \u001b[0mfuture\u001b[0m\u001b[0;34m.\u001b[0m\u001b[0mresult\u001b[0m\u001b[0;34m(\u001b[0m\u001b[0mtimeout\u001b[0m\u001b[0;34m=\u001b[0m\u001b[0mtimeout\u001b[0m\u001b[0;34m)\u001b[0m\u001b[0;34m\u001b[0m\u001b[0;34m\u001b[0m\u001b[0m\n\u001b[0m\u001b[1;32m    543\u001b[0m         \u001b[0;32mexcept\u001b[0m \u001b[0mCfTimeoutError\u001b[0m \u001b[0;32mas\u001b[0m \u001b[0me\u001b[0m\u001b[0;34m:\u001b[0m\u001b[0;34m\u001b[0m\u001b[0;34m\u001b[0m\u001b[0m\n\u001b[1;32m    544\u001b[0m             \u001b[0;32mraise\u001b[0m \u001b[0mTimeoutError\u001b[0m \u001b[0;32mfrom\u001b[0m \u001b[0me\u001b[0m\u001b[0;34m\u001b[0m\u001b[0;34m\u001b[0m\u001b[0m\n",
      "\u001b[0;32m~/.conda/envs/truckCodriving/lib/python3.9/concurrent/futures/_base.py\u001b[0m in \u001b[0;36mresult\u001b[0;34m(self, timeout)\u001b[0m\n\u001b[1;32m    438\u001b[0m                 \u001b[0;32mraise\u001b[0m \u001b[0mCancelledError\u001b[0m\u001b[0;34m(\u001b[0m\u001b[0;34m)\u001b[0m\u001b[0;34m\u001b[0m\u001b[0;34m\u001b[0m\u001b[0m\n\u001b[1;32m    439\u001b[0m             \u001b[0;32melif\u001b[0m \u001b[0mself\u001b[0m\u001b[0;34m.\u001b[0m\u001b[0m_state\u001b[0m \u001b[0;34m==\u001b[0m \u001b[0mFINISHED\u001b[0m\u001b[0;34m:\u001b[0m\u001b[0;34m\u001b[0m\u001b[0;34m\u001b[0m\u001b[0m\n\u001b[0;32m--> 440\u001b[0;31m                 \u001b[0;32mreturn\u001b[0m \u001b[0mself\u001b[0m\u001b[0;34m.\u001b[0m\u001b[0m__get_result\u001b[0m\u001b[0;34m(\u001b[0m\u001b[0;34m)\u001b[0m\u001b[0;34m\u001b[0m\u001b[0;34m\u001b[0m\u001b[0m\n\u001b[0m\u001b[1;32m    441\u001b[0m             \u001b[0;32melse\u001b[0m\u001b[0;34m:\u001b[0m\u001b[0;34m\u001b[0m\u001b[0;34m\u001b[0m\u001b[0m\n\u001b[1;32m    442\u001b[0m                 \u001b[0;32mraise\u001b[0m \u001b[0mTimeoutError\u001b[0m\u001b[0;34m(\u001b[0m\u001b[0;34m)\u001b[0m\u001b[0;34m\u001b[0m\u001b[0;34m\u001b[0m\u001b[0m\n",
      "\u001b[0;32m~/.conda/envs/truckCodriving/lib/python3.9/concurrent/futures/_base.py\u001b[0m in \u001b[0;36m__get_result\u001b[0;34m(self)\u001b[0m\n\u001b[1;32m    387\u001b[0m     \u001b[0;32mdef\u001b[0m \u001b[0m__get_result\u001b[0m\u001b[0;34m(\u001b[0m\u001b[0mself\u001b[0m\u001b[0;34m)\u001b[0m\u001b[0;34m:\u001b[0m\u001b[0;34m\u001b[0m\u001b[0;34m\u001b[0m\u001b[0m\n\u001b[1;32m    388\u001b[0m         \u001b[0;32mif\u001b[0m \u001b[0mself\u001b[0m\u001b[0;34m.\u001b[0m\u001b[0m_exception\u001b[0m\u001b[0;34m:\u001b[0m\u001b[0;34m\u001b[0m\u001b[0;34m\u001b[0m\u001b[0m\n\u001b[0;32m--> 389\u001b[0;31m             \u001b[0;32mraise\u001b[0m \u001b[0mself\u001b[0m\u001b[0;34m.\u001b[0m\u001b[0m_exception\u001b[0m\u001b[0;34m\u001b[0m\u001b[0;34m\u001b[0m\u001b[0m\n\u001b[0m\u001b[1;32m    390\u001b[0m         \u001b[0;32melse\u001b[0m\u001b[0;34m:\u001b[0m\u001b[0;34m\u001b[0m\u001b[0;34m\u001b[0m\u001b[0m\n\u001b[1;32m    391\u001b[0m             \u001b[0;32mreturn\u001b[0m \u001b[0mself\u001b[0m\u001b[0;34m.\u001b[0m\u001b[0m_result\u001b[0m\u001b[0;34m\u001b[0m\u001b[0;34m\u001b[0m\u001b[0m\n",
      "\u001b[0;32m~/.conda/envs/truckCodriving/lib/python3.9/site-packages/joblib/externals/loky/_base.py\u001b[0m in \u001b[0;36m_invoke_callbacks\u001b[0;34m(self)\u001b[0m\n\u001b[1;32m    623\u001b[0m         \u001b[0;32mfor\u001b[0m \u001b[0mcallback\u001b[0m \u001b[0;32min\u001b[0m \u001b[0mself\u001b[0m\u001b[0;34m.\u001b[0m\u001b[0m_done_callbacks\u001b[0m\u001b[0;34m:\u001b[0m\u001b[0;34m\u001b[0m\u001b[0;34m\u001b[0m\u001b[0m\n\u001b[1;32m    624\u001b[0m             \u001b[0;32mtry\u001b[0m\u001b[0;34m:\u001b[0m\u001b[0;34m\u001b[0m\u001b[0;34m\u001b[0m\u001b[0m\n\u001b[0;32m--> 625\u001b[0;31m                 \u001b[0mcallback\u001b[0m\u001b[0;34m(\u001b[0m\u001b[0mself\u001b[0m\u001b[0;34m)\u001b[0m\u001b[0;34m\u001b[0m\u001b[0;34m\u001b[0m\u001b[0m\n\u001b[0m\u001b[1;32m    626\u001b[0m             \u001b[0;32mexcept\u001b[0m \u001b[0mBaseException\u001b[0m\u001b[0;34m:\u001b[0m\u001b[0;34m\u001b[0m\u001b[0;34m\u001b[0m\u001b[0m\n\u001b[1;32m    627\u001b[0m                 \u001b[0mLOGGER\u001b[0m\u001b[0;34m.\u001b[0m\u001b[0mexception\u001b[0m\u001b[0;34m(\u001b[0m\u001b[0;34m'exception calling callback for %r'\u001b[0m\u001b[0;34m,\u001b[0m \u001b[0mself\u001b[0m\u001b[0;34m)\u001b[0m\u001b[0;34m\u001b[0m\u001b[0;34m\u001b[0m\u001b[0m\n",
      "\u001b[0;32m~/.conda/envs/truckCodriving/lib/python3.9/site-packages/joblib/parallel.py\u001b[0m in \u001b[0;36m__call__\u001b[0;34m(self, out)\u001b[0m\n\u001b[1;32m    357\u001b[0m         \u001b[0;32mwith\u001b[0m \u001b[0mself\u001b[0m\u001b[0;34m.\u001b[0m\u001b[0mparallel\u001b[0m\u001b[0;34m.\u001b[0m\u001b[0m_lock\u001b[0m\u001b[0;34m:\u001b[0m\u001b[0;34m\u001b[0m\u001b[0;34m\u001b[0m\u001b[0m\n\u001b[1;32m    358\u001b[0m             \u001b[0;32mif\u001b[0m \u001b[0mself\u001b[0m\u001b[0;34m.\u001b[0m\u001b[0mparallel\u001b[0m\u001b[0;34m.\u001b[0m\u001b[0m_original_iterator\u001b[0m \u001b[0;32mis\u001b[0m \u001b[0;32mnot\u001b[0m \u001b[0;32mNone\u001b[0m\u001b[0;34m:\u001b[0m\u001b[0;34m\u001b[0m\u001b[0;34m\u001b[0m\u001b[0m\n\u001b[0;32m--> 359\u001b[0;31m                 \u001b[0mself\u001b[0m\u001b[0;34m.\u001b[0m\u001b[0mparallel\u001b[0m\u001b[0;34m.\u001b[0m\u001b[0mdispatch_next\u001b[0m\u001b[0;34m(\u001b[0m\u001b[0;34m)\u001b[0m\u001b[0;34m\u001b[0m\u001b[0;34m\u001b[0m\u001b[0m\n\u001b[0m\u001b[1;32m    360\u001b[0m \u001b[0;34m\u001b[0m\u001b[0m\n\u001b[1;32m    361\u001b[0m \u001b[0;34m\u001b[0m\u001b[0m\n",
      "\u001b[0;32m~/.conda/envs/truckCodriving/lib/python3.9/site-packages/joblib/parallel.py\u001b[0m in \u001b[0;36mdispatch_next\u001b[0;34m(self)\u001b[0m\n\u001b[1;32m    790\u001b[0m \u001b[0;34m\u001b[0m\u001b[0m\n\u001b[1;32m    791\u001b[0m         \"\"\"\n\u001b[0;32m--> 792\u001b[0;31m         \u001b[0;32mif\u001b[0m \u001b[0;32mnot\u001b[0m \u001b[0mself\u001b[0m\u001b[0;34m.\u001b[0m\u001b[0mdispatch_one_batch\u001b[0m\u001b[0;34m(\u001b[0m\u001b[0mself\u001b[0m\u001b[0;34m.\u001b[0m\u001b[0m_original_iterator\u001b[0m\u001b[0;34m)\u001b[0m\u001b[0;34m:\u001b[0m\u001b[0;34m\u001b[0m\u001b[0;34m\u001b[0m\u001b[0m\n\u001b[0m\u001b[1;32m    793\u001b[0m             \u001b[0mself\u001b[0m\u001b[0;34m.\u001b[0m\u001b[0m_iterating\u001b[0m \u001b[0;34m=\u001b[0m \u001b[0;32mFalse\u001b[0m\u001b[0;34m\u001b[0m\u001b[0;34m\u001b[0m\u001b[0m\n\u001b[1;32m    794\u001b[0m             \u001b[0mself\u001b[0m\u001b[0;34m.\u001b[0m\u001b[0m_original_iterator\u001b[0m \u001b[0;34m=\u001b[0m \u001b[0;32mNone\u001b[0m\u001b[0;34m\u001b[0m\u001b[0;34m\u001b[0m\u001b[0m\n",
      "\u001b[0;32m~/.conda/envs/truckCodriving/lib/python3.9/site-packages/joblib/parallel.py\u001b[0m in \u001b[0;36mdispatch_one_batch\u001b[0;34m(self, iterator)\u001b[0m\n\u001b[1;32m    857\u001b[0m                 \u001b[0;32mreturn\u001b[0m \u001b[0;32mFalse\u001b[0m\u001b[0;34m\u001b[0m\u001b[0;34m\u001b[0m\u001b[0m\n\u001b[1;32m    858\u001b[0m             \u001b[0;32melse\u001b[0m\u001b[0;34m:\u001b[0m\u001b[0;34m\u001b[0m\u001b[0;34m\u001b[0m\u001b[0m\n\u001b[0;32m--> 859\u001b[0;31m                 \u001b[0mself\u001b[0m\u001b[0;34m.\u001b[0m\u001b[0m_dispatch\u001b[0m\u001b[0;34m(\u001b[0m\u001b[0mtasks\u001b[0m\u001b[0;34m)\u001b[0m\u001b[0;34m\u001b[0m\u001b[0;34m\u001b[0m\u001b[0m\n\u001b[0m\u001b[1;32m    860\u001b[0m                 \u001b[0;32mreturn\u001b[0m \u001b[0;32mTrue\u001b[0m\u001b[0;34m\u001b[0m\u001b[0;34m\u001b[0m\u001b[0m\n\u001b[1;32m    861\u001b[0m \u001b[0;34m\u001b[0m\u001b[0m\n",
      "\u001b[0;32m~/.conda/envs/truckCodriving/lib/python3.9/site-packages/joblib/parallel.py\u001b[0m in \u001b[0;36m_dispatch\u001b[0;34m(self, batch)\u001b[0m\n\u001b[1;32m    775\u001b[0m         \u001b[0;32mwith\u001b[0m \u001b[0mself\u001b[0m\u001b[0;34m.\u001b[0m\u001b[0m_lock\u001b[0m\u001b[0;34m:\u001b[0m\u001b[0;34m\u001b[0m\u001b[0;34m\u001b[0m\u001b[0m\n\u001b[1;32m    776\u001b[0m             \u001b[0mjob_idx\u001b[0m \u001b[0;34m=\u001b[0m \u001b[0mlen\u001b[0m\u001b[0;34m(\u001b[0m\u001b[0mself\u001b[0m\u001b[0;34m.\u001b[0m\u001b[0m_jobs\u001b[0m\u001b[0;34m)\u001b[0m\u001b[0;34m\u001b[0m\u001b[0;34m\u001b[0m\u001b[0m\n\u001b[0;32m--> 777\u001b[0;31m             \u001b[0mjob\u001b[0m \u001b[0;34m=\u001b[0m \u001b[0mself\u001b[0m\u001b[0;34m.\u001b[0m\u001b[0m_backend\u001b[0m\u001b[0;34m.\u001b[0m\u001b[0mapply_async\u001b[0m\u001b[0;34m(\u001b[0m\u001b[0mbatch\u001b[0m\u001b[0;34m,\u001b[0m \u001b[0mcallback\u001b[0m\u001b[0;34m=\u001b[0m\u001b[0mcb\u001b[0m\u001b[0;34m)\u001b[0m\u001b[0;34m\u001b[0m\u001b[0;34m\u001b[0m\u001b[0m\n\u001b[0m\u001b[1;32m    778\u001b[0m             \u001b[0;31m# A job can complete so quickly than its callback is\u001b[0m\u001b[0;34m\u001b[0m\u001b[0;34m\u001b[0m\u001b[0;34m\u001b[0m\u001b[0m\n\u001b[1;32m    779\u001b[0m             \u001b[0;31m# called before we get here, causing self._jobs to\u001b[0m\u001b[0;34m\u001b[0m\u001b[0;34m\u001b[0m\u001b[0;34m\u001b[0m\u001b[0m\n",
      "\u001b[0;32m~/.conda/envs/truckCodriving/lib/python3.9/site-packages/joblib/_parallel_backends.py\u001b[0m in \u001b[0;36mapply_async\u001b[0;34m(self, func, callback)\u001b[0m\n\u001b[1;32m    529\u001b[0m     \u001b[0;32mdef\u001b[0m \u001b[0mapply_async\u001b[0m\u001b[0;34m(\u001b[0m\u001b[0mself\u001b[0m\u001b[0;34m,\u001b[0m \u001b[0mfunc\u001b[0m\u001b[0;34m,\u001b[0m \u001b[0mcallback\u001b[0m\u001b[0;34m=\u001b[0m\u001b[0;32mNone\u001b[0m\u001b[0;34m)\u001b[0m\u001b[0;34m:\u001b[0m\u001b[0;34m\u001b[0m\u001b[0;34m\u001b[0m\u001b[0m\n\u001b[1;32m    530\u001b[0m         \u001b[0;34m\"\"\"Schedule a func to be run\"\"\"\u001b[0m\u001b[0;34m\u001b[0m\u001b[0;34m\u001b[0m\u001b[0m\n\u001b[0;32m--> 531\u001b[0;31m         \u001b[0mfuture\u001b[0m \u001b[0;34m=\u001b[0m \u001b[0mself\u001b[0m\u001b[0;34m.\u001b[0m\u001b[0m_workers\u001b[0m\u001b[0;34m.\u001b[0m\u001b[0msubmit\u001b[0m\u001b[0;34m(\u001b[0m\u001b[0mSafeFunction\u001b[0m\u001b[0;34m(\u001b[0m\u001b[0mfunc\u001b[0m\u001b[0;34m)\u001b[0m\u001b[0;34m)\u001b[0m\u001b[0;34m\u001b[0m\u001b[0;34m\u001b[0m\u001b[0m\n\u001b[0m\u001b[1;32m    532\u001b[0m         \u001b[0mfuture\u001b[0m\u001b[0;34m.\u001b[0m\u001b[0mget\u001b[0m \u001b[0;34m=\u001b[0m \u001b[0mfunctools\u001b[0m\u001b[0;34m.\u001b[0m\u001b[0mpartial\u001b[0m\u001b[0;34m(\u001b[0m\u001b[0mself\u001b[0m\u001b[0;34m.\u001b[0m\u001b[0mwrap_future_result\u001b[0m\u001b[0;34m,\u001b[0m \u001b[0mfuture\u001b[0m\u001b[0;34m)\u001b[0m\u001b[0;34m\u001b[0m\u001b[0;34m\u001b[0m\u001b[0m\n\u001b[1;32m    533\u001b[0m         \u001b[0;32mif\u001b[0m \u001b[0mcallback\u001b[0m \u001b[0;32mis\u001b[0m \u001b[0;32mnot\u001b[0m \u001b[0;32mNone\u001b[0m\u001b[0;34m:\u001b[0m\u001b[0;34m\u001b[0m\u001b[0;34m\u001b[0m\u001b[0m\n",
      "\u001b[0;32m~/.conda/envs/truckCodriving/lib/python3.9/site-packages/joblib/externals/loky/reusable_executor.py\u001b[0m in \u001b[0;36msubmit\u001b[0;34m(self, fn, *args, **kwargs)\u001b[0m\n\u001b[1;32m    175\u001b[0m     \u001b[0;32mdef\u001b[0m \u001b[0msubmit\u001b[0m\u001b[0;34m(\u001b[0m\u001b[0mself\u001b[0m\u001b[0;34m,\u001b[0m \u001b[0mfn\u001b[0m\u001b[0;34m,\u001b[0m \u001b[0;34m*\u001b[0m\u001b[0margs\u001b[0m\u001b[0;34m,\u001b[0m \u001b[0;34m**\u001b[0m\u001b[0mkwargs\u001b[0m\u001b[0;34m)\u001b[0m\u001b[0;34m:\u001b[0m\u001b[0;34m\u001b[0m\u001b[0;34m\u001b[0m\u001b[0m\n\u001b[1;32m    176\u001b[0m         \u001b[0;32mwith\u001b[0m \u001b[0mself\u001b[0m\u001b[0;34m.\u001b[0m\u001b[0m_submit_resize_lock\u001b[0m\u001b[0;34m:\u001b[0m\u001b[0;34m\u001b[0m\u001b[0;34m\u001b[0m\u001b[0m\n\u001b[0;32m--> 177\u001b[0;31m             return super(_ReusablePoolExecutor, self).submit(\n\u001b[0m\u001b[1;32m    178\u001b[0m                 fn, *args, **kwargs)\n\u001b[1;32m    179\u001b[0m \u001b[0;34m\u001b[0m\u001b[0m\n",
      "\u001b[0;32m~/.conda/envs/truckCodriving/lib/python3.9/site-packages/joblib/externals/loky/process_executor.py\u001b[0m in \u001b[0;36msubmit\u001b[0;34m(self, fn, *args, **kwargs)\u001b[0m\n\u001b[1;32m   1100\u001b[0m         \u001b[0;32mwith\u001b[0m \u001b[0mself\u001b[0m\u001b[0;34m.\u001b[0m\u001b[0m_flags\u001b[0m\u001b[0;34m.\u001b[0m\u001b[0mshutdown_lock\u001b[0m\u001b[0;34m:\u001b[0m\u001b[0;34m\u001b[0m\u001b[0;34m\u001b[0m\u001b[0m\n\u001b[1;32m   1101\u001b[0m             \u001b[0;32mif\u001b[0m \u001b[0mself\u001b[0m\u001b[0;34m.\u001b[0m\u001b[0m_flags\u001b[0m\u001b[0;34m.\u001b[0m\u001b[0mbroken\u001b[0m \u001b[0;32mis\u001b[0m \u001b[0;32mnot\u001b[0m \u001b[0;32mNone\u001b[0m\u001b[0;34m:\u001b[0m\u001b[0;34m\u001b[0m\u001b[0;34m\u001b[0m\u001b[0m\n\u001b[0;32m-> 1102\u001b[0;31m                 \u001b[0;32mraise\u001b[0m \u001b[0mself\u001b[0m\u001b[0;34m.\u001b[0m\u001b[0m_flags\u001b[0m\u001b[0;34m.\u001b[0m\u001b[0mbroken\u001b[0m\u001b[0;34m\u001b[0m\u001b[0;34m\u001b[0m\u001b[0m\n\u001b[0m\u001b[1;32m   1103\u001b[0m             \u001b[0;32mif\u001b[0m \u001b[0mself\u001b[0m\u001b[0;34m.\u001b[0m\u001b[0m_flags\u001b[0m\u001b[0;34m.\u001b[0m\u001b[0mshutdown\u001b[0m\u001b[0;34m:\u001b[0m\u001b[0;34m\u001b[0m\u001b[0;34m\u001b[0m\u001b[0m\n\u001b[1;32m   1104\u001b[0m                 raise ShutdownExecutorError(\n",
      "\u001b[0;31mTerminatedWorkerError\u001b[0m: A worker process managed by the executor was unexpectedly terminated. This could be caused by a segmentation fault while calling the function or by an excessive memory usage causing the Operating System to kill the worker.\n\nThe exit codes of the workers are {SIGKILL(-9)}"
     ]
    }
   ],
   "source": [
    "%%time\n",
    "randomforest = RandomForestClassifier(\n",
    "  n_estimators=128, random_state=1, class_weight=\"balanced\", n_jobs=128)\n",
    "\n",
    "clf = GridSearchCV(\n",
    "  randomforest, {\"max_depth\": [1, 2, 3, 4, 8, 16, 32, 64, None]},\n",
    "  scoring=[\"average_precision\", \"roc_auc\"], n_jobs=2, refit=False, verbose=10, \n",
    "  return_train_score=True)\n",
    "\n",
    "clf.fit(split.xtrain, split.ytrain)\n",
    "joblib.dump(clf, 'temp/gridsearch-clf.pkl')"
   ]
  },
  {
   "cell_type": "markdown",
   "metadata": {},
   "source": [
    "## ROC AUC"
   ]
  },
  {
   "cell_type": "code",
   "execution_count": 5,
   "metadata": {
    "execution": {
     "iopub.execute_input": "2021-01-28T22:10:05.839318Z",
     "iopub.status.busy": "2021-01-28T22:10:05.839181Z",
     "iopub.status.idle": "2021-01-28T22:10:05.846504Z",
     "shell.execute_reply": "2021-01-28T22:10:05.845848Z",
     "shell.execute_reply.started": "2021-01-28T22:10:05.839302Z"
    }
   },
   "outputs": [
    {
     "ename": "AttributeError",
     "evalue": "'GridSearchCV' object has no attribute 'cv_results_'",
     "output_type": "error",
     "traceback": [
      "\u001b[0;31m---------------------------------------------------------------------------\u001b[0m",
      "\u001b[0;31mAttributeError\u001b[0m                            Traceback (most recent call last)",
      "\u001b[0;32m<timed exec>\u001b[0m in \u001b[0;36m<module>\u001b[0;34m\u001b[0m\n",
      "\u001b[0;31mAttributeError\u001b[0m: 'GridSearchCV' object has no attribute 'cv_results_'"
     ]
    }
   ],
   "source": [
    "%%time\n",
    "for label, score in {'Train': \"mean_train_roc_auc\", \n",
    "                     \"Validation\": \"mean_test_roc_auc\"}.items():\n",
    "  pd.Series(clf.cv_results_[score], \n",
    "            index=[param['max_depth'] for param in clf.cv_results_['params']]\n",
    "           ).loc[[1, 2, 3, 4, 8, 16, 32, 64, None]].plot(label=label)\n",
    "plt.legend()\n",
    "plt.xlabel('max_depth')\n",
    "plt.ylabel('ROC AUC')"
   ]
  },
  {
   "cell_type": "markdown",
   "metadata": {},
   "source": [
    "## Average precision"
   ]
  },
  {
   "cell_type": "code",
   "execution_count": 6,
   "metadata": {
    "execution": {
     "iopub.execute_input": "2021-01-28T22:10:05.847265Z",
     "iopub.status.busy": "2021-01-28T22:10:05.847150Z",
     "iopub.status.idle": "2021-01-28T22:10:06.015375Z",
     "shell.execute_reply": "2021-01-28T22:10:06.014703Z",
     "shell.execute_reply.started": "2021-01-28T22:10:05.847252Z"
    }
   },
   "outputs": [
    {
     "ename": "AttributeError",
     "evalue": "'GridSearchCV' object has no attribute 'cv_results_'",
     "output_type": "error",
     "traceback": [
      "\u001b[0;31m---------------------------------------------------------------------------\u001b[0m",
      "\u001b[0;31mAttributeError\u001b[0m                            Traceback (most recent call last)",
      "\u001b[0;32m<timed exec>\u001b[0m in \u001b[0;36m<module>\u001b[0;34m\u001b[0m\n",
      "\u001b[0;31mAttributeError\u001b[0m: 'GridSearchCV' object has no attribute 'cv_results_'"
     ]
    }
   ],
   "source": [
    "%%time\n",
    "for label, score in {'Train': \"mean_train_average_precision\",\n",
    "                     \"Validation\": \"mean_test_average_precision\"}.items():\n",
    "  pd.Series(clf.cv_results_[score], \n",
    "            index=[param['max_depth'] for param in clf.cv_results_['params']]\n",
    "           ).loc[[1, 2, 3, 4, 8, 16, 32, 64, None]].plot(label=label)\n",
    "plt.legend()\n",
    "plt.yscale(\"log\")\n",
    "plt.xlabel('max_depth')\n",
    "plt.ylabel('Average precision')"
   ]
  },
  {
   "cell_type": "markdown",
   "metadata": {},
   "source": [
    "## Select best hyperparameters\n",
    "We choose a value of `max_depth=3`. Because of the higher performance while still not (severely) overfitting."
   ]
  },
  {
   "cell_type": "code",
   "execution_count": null,
   "metadata": {},
   "outputs": [],
   "source": []
  }
 ],
 "metadata": {
  "kernelspec": {
   "display_name": "Python 3",
   "language": "python",
   "name": "python3"
  },
  "language_info": {
   "codemirror_mode": {
    "name": "ipython",
    "version": 3
   },
   "file_extension": ".py",
   "mimetype": "text/x-python",
   "name": "python",
   "nbconvert_exporter": "python",
   "pygments_lexer": "ipython3",
   "version": "3.9.2"
  }
 },
 "nbformat": 4,
 "nbformat_minor": 4
}
