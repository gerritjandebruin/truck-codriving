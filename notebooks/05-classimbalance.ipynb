{
 "cells": [
  {
   "cell_type": "code",
   "execution_count": 1,
   "id": "wireless-punch",
   "metadata": {
    "execution": {
     "iopub.execute_input": "2021-04-02T08:39:28.782101Z",
     "iopub.status.busy": "2021-04-02T08:39:28.781847Z",
     "iopub.status.idle": "2021-04-02T08:39:29.530230Z",
     "shell.execute_reply": "2021-04-02T08:39:29.529522Z",
     "shell.execute_reply.started": "2021-04-02T08:39:28.782049Z"
    },
    "tags": []
   },
   "outputs": [],
   "source": [
    "%load_ext autoreload\n",
    "%autoreload 2\n",
    "\n",
    "import datetime, os, pathlib\n",
    "\n",
    "import numpy as np\n",
    "\n",
    "if 'project_dir' not in globals():\n",
    "  project_dir = pathlib.Path.cwd().parent\n",
    "os.chdir(project_dir)"
   ]
  },
  {
   "cell_type": "code",
   "execution_count": 5,
   "id": "median-fundamental",
   "metadata": {
    "execution": {
     "iopub.execute_input": "2021-04-02T08:39:30.196342Z",
     "iopub.status.busy": "2021-04-02T08:39:30.196031Z",
     "iopub.status.idle": "2021-04-02T08:39:32.984625Z",
     "shell.execute_reply": "2021-04-02T08:39:32.983774Z",
     "shell.execute_reply.started": "2021-04-02T08:39:30.196306Z"
    },
    "tags": []
   },
   "outputs": [
    {
     "output_type": "stream",
     "name": "stdout",
     "text": [
      "Class imbalance 1:38750\nPositives: 6481\n"
     ]
    }
   ],
   "source": [
    "f, t = np.bincount(np.load('models/1/targets.npy'))\n",
    "print(f'Class imbalance 1:{(t+f)/t:.0f}')\n",
    "print(f'Positives: {t}')"
   ]
  },
  {
   "cell_type": "code",
   "execution_count": 2,
   "metadata": {},
   "outputs": [
    {
     "output_type": "stream",
     "name": "stdout",
     "text": [
      "Class imbalance 1:23437\nPositives: 1665\n"
     ]
    }
   ],
   "source": [
    "f, t = np.bincount(np.load('models/2/targets.npy'))\n",
    "print(f'Class imbalance 1:{(t+f)/t:.0f}')\n",
    "print(f'Positives: {t}')"
   ]
  },
  {
   "cell_type": "code",
   "execution_count": null,
   "metadata": {},
   "outputs": [],
   "source": [
    "f, t = np.bincount(np.load('models/3/targets.npy'))\n",
    "print(f'Class imbalance 1:{(t+f)/t:.0f}')\n",
    "print(f'Positives: {t}')"
   ]
  }
 ],
 "metadata": {
  "kernelspec": {
   "name": "python392jvsc74a57bd0c74ffe1fbc9c426d1fda2400cbf902570da75ded19d3219a125d8a5d46e44d54",
   "display_name": "Python 3.9.2 64-bit ('tlp': conda)"
  },
  "language_info": {
   "codemirror_mode": {
    "name": "ipython",
    "version": 3
   },
   "file_extension": ".py",
   "mimetype": "text/x-python",
   "name": "python",
   "nbconvert_exporter": "python",
   "pygments_lexer": "ipython3",
   "version": "3.9.2-final"
  },
  "metadata": {
   "interpreter": {
    "hash": "c74ffe1fbc9c426d1fda2400cbf902570da75ded19d3219a125d8a5d46e44d54"
   }
  }
 },
 "nbformat": 4,
 "nbformat_minor": 5
}