{
 "cells": [
  {
   "cell_type": "markdown",
   "metadata": {},
   "source": [
    "# Link prediction on truck co-driving network\n",
    "This notebook shows how the codriving_network module should be used."
   ]
  },
  {
   "cell_type": "code",
   "execution_count": 5,
   "metadata": {
    "execution": {
     "iopub.execute_input": "2021-01-29T05:04:16.431960Z",
     "iopub.status.busy": "2021-01-29T05:04:16.431839Z",
     "iopub.status.idle": "2021-01-29T05:04:52.776621Z",
     "shell.execute_reply": "2021-01-29T05:04:52.775389Z",
     "shell.execute_reply.started": "2021-01-29T05:04:16.431927Z"
    }
   },
   "outputs": [],
   "source": [
    "%load_ext autoreload\n",
    "%autoreload 2\n",
    "\n",
    "import datetime, os, pathlib, pickle\n",
    "\n",
    "import numpy as np\n",
    "import pandas as pd\n",
    "\n",
    "if 'project_dir' not in globals():\n",
    "  project_dir = pathlib.Path.cwd().parent\n",
    "os.chdir(project_dir)"
   ]
  },
  {
   "cell_type": "code",
   "execution_count": 6,
   "metadata": {},
   "outputs": [],
   "source": [
    "with open('models/1/performance.pkl', 'rb') as file:\n",
    "    df = pickle.load(file)"
   ]
  },
  {
   "cell_type": "code",
   "execution_count": 7,
   "metadata": {},
   "outputs": [
    {
     "output_type": "execute_result",
     "data": {
      "text/plain": [
       "0.5793941884566829"
      ]
     },
     "metadata": {},
     "execution_count": 7
    }
   ],
   "source": [
    "df['auroc']"
   ]
  },
  {
   "cell_type": "code",
   "execution_count": 8,
   "metadata": {},
   "outputs": [
    {
     "output_type": "execute_result",
     "data": {
      "text/plain": [
       "0.013664399876250802"
      ]
     },
     "metadata": {},
     "execution_count": 8
    }
   ],
   "source": [
    "df['ap']"
   ]
  },
  {
   "cell_type": "markdown",
   "metadata": {},
   "source": [
    "## Feature importance\n",
    "This is the Gini feature importance for every feature."
   ]
  },
  {
   "cell_type": "code",
   "execution_count": 11,
   "metadata": {},
   "outputs": [
    {
     "output_type": "execute_result",
     "data": {
      "text/plain": [
       "country_same               0.010878\n",
       "degree_diff                0.007051\n",
       "degree_sum                 0.016204\n",
       "f_30_A12 L Woerden         0.010770\n",
       "f_30_A15 R Giessenburg     0.036305\n",
       "f_30_A16 R Dordrecht       0.038770\n",
       "f_365_A12 L Woerden        0.021652\n",
       "f_365_A12 R Woerden        0.024378\n",
       "f_365_A15 L Giessenburg    0.087530\n",
       "f_365_A15 R Giessenburg    0.098766\n",
       "f_365_A16 L Dordrecht      0.100503\n",
       "f_365_A16 R Dordrecht      0.123594\n",
       "f_7_A12 L Woerden          0.005628\n",
       "f_7_A15 R Giessenburg      0.014473\n",
       "f_7_A16 R Dordrecht        0.003421\n",
       "nb_common                  0.015866\n",
       "nb_total                   0.014153\n",
       "night_diff                 0.037178\n",
       "night_sum                  0.020274\n",
       "shortest_path              0.080346\n",
       "truck_ax_diff              0.008010\n",
       "truck_ax_sum               0.007243\n",
       "truck_len_diff             0.048406\n",
       "truck_len_sum              0.021803\n",
       "truck_mass_diff            0.033077\n",
       "truck_mass_sum             0.020800\n",
       "volume_diff                0.013065\n",
       "volume_sum                 0.024588\n",
       "weekend_diff               0.032266\n",
       "weekend_sum                0.023001\n",
       "dtype: float64"
      ]
     },
     "metadata": {},
     "execution_count": 11
    }
   ],
   "source": [
    "feature_importance = df['clf'].feature_importances_\n",
    "pd.Series(feature_importance, index=pd.read_pickle('models/1/xtest.pkl').columns).sort_index()"
   ]
  },
  {
   "cell_type": "markdown",
   "metadata": {},
   "source": [
    "## ROC plot"
   ]
  },
  {
   "cell_type": "code",
   "execution_count": null,
   "metadata": {},
   "outputs": [],
   "source": [
    "%%time\n",
    "pred = results['clf'].predict_proba(split.xtest)\n",
    "fpr, tpr, _ = roc_curve(split.ytest, pred[:, 1], drop_intermediate=True)\n",
    "n, p = np.bincount(split.ytest)\n",
    "\n",
    "plt.figure()\n",
    "plt.fill_between(fpr*n, tpr*p)\n",
    "plt.plot([0,n], [0,p], ls=\"--\", c=\"C1\")\n",
    "plt.xlabel('False Positives (millions)')\n",
    "plt.ylabel('True Positives')\n",
    "plt.xlim(0, n)\n",
    "plt.ylim(0, p)"
   ]
  },
  {
   "cell_type": "code",
   "execution_count": 1,
   "metadata": {
    "execution": {
     "iopub.execute_input": "2021-01-29T05:03:51.504385Z",
     "iopub.status.busy": "2021-01-29T05:03:51.503835Z",
     "iopub.status.idle": "2021-01-29T05:03:51.917519Z",
     "shell.execute_reply": "2021-01-29T05:03:51.916280Z",
     "shell.execute_reply.started": "2021-01-29T05:03:51.504257Z"
    }
   },
   "outputs": [
    {
     "ename": "NameError",
     "evalue": "name 'pd' is not defined",
     "output_type": "error",
     "traceback": [
      "\u001b[0;31m---------------------------------------------------------------------------\u001b[0m",
      "\u001b[0;31mNameError\u001b[0m                                 Traceback (most recent call last)",
      "\u001b[0;32m<ipython-input-1-3f5bab36605b>\u001b[0m in \u001b[0;36m<module>\u001b[0;34m\u001b[0m\n\u001b[1;32m      8\u001b[0m   \u001b[0;32mreturn\u001b[0m \u001b[0;34m\"Node\"\u001b[0m\u001b[0;34m\u001b[0m\u001b[0;34m\u001b[0m\u001b[0m\n\u001b[1;32m      9\u001b[0m \u001b[0;34m\u001b[0m\u001b[0m\n\u001b[0;32m---> 10\u001b[0;31m feature_importance = pd.DataFrame(\n\u001b[0m\u001b[1;32m     11\u001b[0m   {\"i\": results['clf'].feature_importances_, \n\u001b[1;32m     12\u001b[0m    \"t\": [getType(c) for c in split.xtest.columns]}, \n",
      "\u001b[0;31mNameError\u001b[0m: name 'pd' is not defined"
     ]
    }
   ],
   "source": [
    "# Function that convert feature name to feature type.\n",
    "def getType(label): \n",
    "  if label.startswith(\"deg\"): return \"NB\"\n",
    "  if label.startswith(\"vol\"): return \"NB\"\n",
    "  if label.startswith(\"nb\") : return \"NB\"\n",
    "  if label == \"shortestPath\": return \"P\"\n",
    "  if label.startswith(\"f\")  : return \"ST\"\n",
    "  return \"Node\"\n",
    "\n",
    "feature_importance = pd.DataFrame(\n",
    "  {\"i\": results['clf'].feature_importances_, \n",
    "   \"t\": [getType(c) for c in split.xtest.columns]}, \n",
    "  index=split.xtest.columns)\n",
    "feature_importance"
   ]
  },
  {
   "cell_type": "code",
   "execution_count": 7,
   "metadata": {
    "execution": {
     "iopub.execute_input": "2021-01-26T15:03:02.768565Z",
     "iopub.status.busy": "2021-01-26T15:03:02.768240Z",
     "iopub.status.idle": "2021-01-26T15:03:03.264557Z",
     "shell.execute_reply": "2021-01-26T15:03:03.263579Z",
     "shell.execute_reply.started": "2021-01-26T15:03:02.768525Z"
    }
   },
   "outputs": [
    {
     "data": {
      "image/png": "[encoded data removed]",
      "text/plain": [
       "<Figure size 432x288 with 1 Axes>"
      ]
     },
     "metadata": {
      "needs_background": "light"
     },
     "output_type": "display_data"
    }
   ],
   "source": [
    "sns.boxplot(data=feature_importance, x=\"t\", y=\"i\", fliersize=0)\n",
    "sns.stripplot(data=feature_importance, x=\"t\", y=\"i\", jitter=.2, s=5)\n",
    "plt.xlabel(\"Type\")\n",
    "plt.ylabel(\"Importance\")\n",
    "plt.tick_params(which=\"both\")"
   ]
  },
  {
   "cell_type": "markdown",
   "metadata": {},
   "source": [
    "The difference between this figure and Figure 7 of CN2019 can possibly be explained because of an error in the code used for the paper ($u$ and $v$ swap at some point)."
   ]
  },
  {
   "cell_type": "code",
   "execution_count": null,
   "metadata": {},
   "outputs": [],
   "source": []
  }
 ],
 "metadata": {
  "kernelspec": {
   "name": "python392jvsc74a57bd0c74ffe1fbc9c426d1fda2400cbf902570da75ded19d3219a125d8a5d46e44d54",
   "display_name": "Python 3.9.2 64-bit ('tlp': conda)"
  },
  "language_info": {
   "codemirror_mode": {
    "name": "ipython",
    "version": 3
   },
   "file_extension": ".py",
   "mimetype": "text/x-python",
   "name": "python",
   "nbconvert_exporter": "python",
   "pygments_lexer": "ipython3",
   "version": "3.9.2-final"
  },
  "metadata": {
   "interpreter": {
    "hash": "c74ffe1fbc9c426d1fda2400cbf902570da75ded19d3219a125d8a5d46e44d54"
   }
  }
 },
 "nbformat": 4,
 "nbformat_minor": 4
}