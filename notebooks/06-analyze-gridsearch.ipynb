{
 "metadata": {
  "language_info": {
   "codemirror_mode": {
    "name": "ipython",
    "version": 3
   },
   "file_extension": ".py",
   "mimetype": "text/x-python",
   "name": "python",
   "nbconvert_exporter": "python",
   "pygments_lexer": "ipython3",
   "version": "3.9.2-final"
  },
  "orig_nbformat": 2,
  "kernelspec": {
   "name": "python392jvsc74a57bd0c74ffe1fbc9c426d1fda2400cbf902570da75ded19d3219a125d8a5d46e44d54",
   "display_name": "Python 3.9.2 64-bit ('tlp': conda)"
  },
  "metadata": {
   "interpreter": {
    "hash": "c74ffe1fbc9c426d1fda2400cbf902570da75ded19d3219a125d8a5d46e44d54"
   }
  }
 },
 "nbformat": 4,
 "nbformat_minor": 2,
 "cells": [
  {
   "cell_type": "code",
   "execution_count": 1,
   "metadata": {},
   "outputs": [],
   "source": [
    "%load_ext autoreload\n",
    "%autoreload 2\n",
    "\n",
    "import datetime, os, pathlib, pickle\n",
    "\n",
    "import numpy as np\n",
    "import pandas as pd\n",
    "\n",
    "if 'project_dir' not in globals():\n",
    "  project_dir = pathlib.Path.cwd().parent\n",
    "os.chdir(project_dir)"
   ]
  },
  {
   "cell_type": "code",
   "execution_count": 16,
   "metadata": {},
   "outputs": [
    {
     "output_type": "execute_result",
     "data": {
      "text/plain": [
       "                     mean_test_roc_auc  mean_train_roc_auc\n",
       "{'max_depth': 1}              0.876010            0.879507\n",
       "{'max_depth': 2}              0.901882            0.906447\n",
       "{'max_depth': 4}              0.923109            0.932172\n",
       "{'max_depth': 8}              0.936075            0.975464\n",
       "{'max_depth': 16}             0.925213            0.998536\n",
       "{'max_depth': 32}             0.869437            0.999897\n",
       "{'max_depth': 64}             0.680485            1.000000\n",
       "{'max_depth': 64}             0.680485            1.000000\n",
       "{'max_depth': None}           0.603174            1.000000"
      ],
      "text/html": "<div>\n<style scoped>\n    .dataframe tbody tr th:only-of-type {\n        vertical-align: middle;\n    }\n\n    .dataframe tbody tr th {\n        vertical-align: top;\n    }\n\n    .dataframe thead th {\n        text-align: right;\n    }\n</style>\n<table border=\"1\" class=\"dataframe\">\n  <thead>\n    <tr style=\"text-align: right;\">\n      <th></th>\n      <th>mean_test_roc_auc</th>\n      <th>mean_train_roc_auc</th>\n    </tr>\n  </thead>\n  <tbody>\n    <tr>\n      <th>{'max_depth': 1}</th>\n      <td>0.876010</td>\n      <td>0.879507</td>\n    </tr>\n    <tr>\n      <th>{'max_depth': 2}</th>\n      <td>0.901882</td>\n      <td>0.906447</td>\n    </tr>\n    <tr>\n      <th>{'max_depth': 4}</th>\n      <td>0.923109</td>\n      <td>0.932172</td>\n    </tr>\n    <tr>\n      <th>{'max_depth': 8}</th>\n      <td>0.936075</td>\n      <td>0.975464</td>\n    </tr>\n    <tr>\n      <th>{'max_depth': 16}</th>\n      <td>0.925213</td>\n      <td>0.998536</td>\n    </tr>\n    <tr>\n      <th>{'max_depth': 32}</th>\n      <td>0.869437</td>\n      <td>0.999897</td>\n    </tr>\n    <tr>\n      <th>{'max_depth': 64}</th>\n      <td>0.680485</td>\n      <td>1.000000</td>\n    </tr>\n    <tr>\n      <th>{'max_depth': 64}</th>\n      <td>0.680485</td>\n      <td>1.000000</td>\n    </tr>\n    <tr>\n      <th>{'max_depth': None}</th>\n      <td>0.603174</td>\n      <td>1.000000</td>\n    </tr>\n  </tbody>\n</table>\n</div>"
     },
     "metadata": {},
     "execution_count": 16
    }
   ],
   "source": [
    "pd.DataFrame(\n",
    "    {\n",
    "        'mean_test_roc_auc': pd.read_pickle('models/2/gridsearch.pkl').cv_results_['mean_test_roc_auc'],\n",
    "        'mean_train_roc_auc': pd.read_pickle('models/2/gridsearch.pkl').cv_results_['mean_train_roc_auc']\n",
    "    }, \n",
    "    index=pd.read_pickle('models/2/gridsearch.pkl').cv_results_['params']\n",
    ")"
   ]
  },
  {
   "cell_type": "code",
   "execution_count": null,
   "metadata": {},
   "outputs": [],
   "source": []
  }
 ]
}